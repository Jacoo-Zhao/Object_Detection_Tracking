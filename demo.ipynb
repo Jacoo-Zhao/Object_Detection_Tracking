{
 "cells": [
  {
   "cell_type": "markdown",
   "source": [],
   "metadata": {
    "collapsed": false
   },
   "id": "57ad1bacefdabf8"
  },
  {
   "cell_type": "code",
   "execution_count": 5,
   "id": "initial_id",
   "metadata": {
    "collapsed": true,
    "ExecuteTime": {
     "end_time": "2023-12-17T07:45:19.198588Z",
     "start_time": "2023-12-17T07:45:19.194675Z"
    }
   },
   "outputs": [],
   "source": [
    "import os\n",
    "file_names = os.listdir('data/imgs_1_trim')\n",
    "# file_names.sort()"
   ]
  },
  {
   "cell_type": "code",
   "execution_count": 13,
   "outputs": [],
   "source": [
    "max = len(file_names)*2"
   ],
   "metadata": {
    "collapsed": false,
    "ExecuteTime": {
     "end_time": "2023-12-15T08:14:50.802635Z",
     "start_time": "2023-12-15T08:14:50.800316Z"
    }
   },
   "id": "39211b85f1bc2f05"
  },
  {
   "cell_type": "code",
   "execution_count": 16,
   "outputs": [
    {
     "data": {
      "text/plain": "3"
     },
     "execution_count": 16,
     "metadata": {},
     "output_type": "execute_result"
    }
   ],
   "source": [
    "len(str(max))"
   ],
   "metadata": {
    "collapsed": false,
    "ExecuteTime": {
     "end_time": "2023-12-15T08:15:10.047321Z",
     "start_time": "2023-12-15T08:15:10.045610Z"
    }
   },
   "id": "350534bd42339e99"
  },
  {
   "cell_type": "code",
   "execution_count": 36,
   "outputs": [
    {
     "name": "stdout",
     "output_type": "stream",
     "text": [
      "Renamed: frame_188.png to frame_188.png\n",
      "Renamed: frame_70.png to frame_070.png\n",
      "Renamed: frame_64.png to frame_064.png\n",
      "Renamed: frame_58.png to frame_058.png\n",
      "Renamed: frame_162.png to frame_162.png\n",
      "Renamed: frame_176.png to frame_176.png\n",
      "Renamed: frame_214.png to frame_214.png\n",
      "Renamed: frame_200.png to frame_200.png\n",
      "Renamed: frame_216.png to frame_216.png\n",
      "Renamed: frame_202.png to frame_202.png\n",
      "Renamed: frame_160.png to frame_160.png\n",
      "Renamed: frame_174.png to frame_174.png\n",
      "Renamed: frame_148.png to frame_148.png\n",
      "Renamed: frame_72.png to frame_072.png\n",
      "Renamed: frame_66.png to frame_066.png\n",
      "Renamed: frame_98.png to frame_098.png\n",
      "Renamed: .DS_Store to frame_098.png\n",
      "Renamed: frame_88.png to frame_088.png\n",
      "Renamed: frame_62.png to frame_062.png\n",
      "Renamed: frame_76.png to frame_076.png\n",
      "Renamed: frame_170.png to frame_170.png\n",
      "Renamed: frame_164.png to frame_164.png\n",
      "Renamed: frame_158.png to frame_158.png\n",
      "Renamed: frame_206.png to frame_206.png\n",
      "Renamed: frame_212.png to frame_212.png\n",
      "Renamed: frame_204.png to frame_204.png\n",
      "Renamed: frame_210.png to frame_210.png\n",
      "Renamed: frame_172.png to frame_172.png\n",
      "Renamed: frame_166.png to frame_166.png\n",
      "Renamed: frame_60.png to frame_060.png\n",
      "Renamed: frame_74.png to frame_074.png\n",
      "Renamed: frame_48.png to frame_048.png\n",
      "Renamed: frame_198.png to frame_198.png\n",
      "Renamed: frame_6.png to frame_006.png\n",
      "Renamed: frame_114.png to frame_114.png\n",
      "Renamed: frame_100.png to frame_100.png\n",
      "Renamed: frame_128.png to frame_128.png\n",
      "Renamed: frame_12.png to frame_012.png\n",
      "Renamed: frame_10.png to frame_010.png\n",
      "Renamed: frame_38.png to frame_038.png\n",
      "Renamed: frame_116.png to frame_116.png\n",
      "Renamed: frame_102.png to frame_102.png\n",
      "Renamed: frame_4.png to frame_004.png\n",
      "Renamed: frame_0.png to frame_000.png\n",
      "Renamed: frame_106.png to frame_106.png\n",
      "Renamed: frame_112.png to frame_112.png\n",
      "Renamed: frame_14.png to frame_014.png\n",
      "Renamed: frame_28.png to frame_028.png\n",
      "Renamed: frame_16.png to frame_016.png\n",
      "Renamed: frame_104.png to frame_104.png\n",
      "Renamed: frame_110.png to frame_110.png\n",
      "Renamed: frame_138.png to frame_138.png\n",
      "Renamed: frame_2.png to frame_002.png\n",
      "Renamed: frame_32.png to frame_032.png\n",
      "Renamed: frame_26.png to frame_026.png\n",
      "Renamed: frame_108.png to frame_108.png\n",
      "Renamed: frame_120.png to frame_120.png\n",
      "Renamed: frame_134.png to frame_134.png\n",
      "Renamed: frame_122.png to frame_122.png\n",
      "Renamed: frame_136.png to frame_136.png\n",
      "Renamed: frame_18.png to frame_018.png\n",
      "Renamed: frame_30.png to frame_030.png\n",
      "Renamed: frame_24.png to frame_024.png\n",
      "Renamed: frame_20.png to frame_020.png\n",
      "Renamed: frame_34.png to frame_034.png\n",
      "Renamed: frame_132.png to frame_132.png\n",
      "Renamed: frame_126.png to frame_126.png\n",
      "Renamed: frame_8.png to frame_008.png\n",
      "Renamed: frame_118.png to frame_118.png\n",
      "Renamed: frame_130.png to frame_130.png\n",
      "Renamed: frame_124.png to frame_124.png\n",
      "Renamed: frame_22.png to frame_022.png\n",
      "Renamed: frame_36.png to frame_036.png\n",
      "Renamed: frame_208.png to frame_208.png\n",
      "Renamed: frame_156.png to frame_156.png\n",
      "Renamed: frame_142.png to frame_142.png\n",
      "Renamed: frame_78.png to frame_078.png\n",
      "Renamed: frame_44.png to frame_044.png\n",
      "Renamed: frame_50.png to frame_050.png\n",
      "Renamed: frame_92.png to frame_092.png\n",
      "Renamed: frame_86.png to frame_086.png\n",
      "Renamed: frame_180.png to frame_180.png\n",
      "Renamed: frame_194.png to frame_194.png\n",
      "Renamed: frame_182.png to frame_182.png\n",
      "Renamed: frame_196.png to frame_196.png\n",
      "Renamed: frame_90.png to frame_090.png\n",
      "Renamed: frame_84.png to frame_084.png\n",
      "Renamed: frame_46.png to frame_046.png\n",
      "Renamed: frame_52.png to frame_052.png\n",
      "Renamed: frame_168.png to frame_168.png\n",
      "Renamed: frame_154.png to frame_154.png\n",
      "Renamed: frame_140.png to frame_140.png\n",
      "Renamed: frame_178.png to frame_178.png\n",
      "Renamed: frame_144.png to frame_144.png\n",
      "Renamed: frame_150.png to frame_150.png\n",
      "Renamed: frame_56.png to frame_056.png\n",
      "Renamed: frame_42.png to frame_042.png\n",
      "Renamed: frame_80.png to frame_080.png\n",
      "Renamed: frame_94.png to frame_094.png\n",
      "Renamed: frame_192.png to frame_192.png\n",
      "Renamed: frame_186.png to frame_186.png\n",
      "Renamed: frame_190.png to frame_190.png\n",
      "Renamed: frame_184.png to frame_184.png\n",
      "Renamed: frame_82.png to frame_082.png\n",
      "Renamed: frame_96.png to frame_096.png\n",
      "Renamed: frame_68.png to frame_068.png\n",
      "Renamed: frame_54.png to frame_054.png\n",
      "Renamed: frame_40.png to frame_040.png\n",
      "Renamed: frame_146.png to frame_146.png\n",
      "Renamed: frame_152.png to frame_152.png\n",
      "Renamed: frame_218.png to frame_218.png\n"
     ]
    }
   ],
   "source": [
    "import re\n",
    "\n",
    "def format_frame_names_with_width(directory):\n",
    "    frame_names = os.listdir(directory)\n",
    "    width =len(str(len(frame_names)*2))\n",
    "    formatted_names = []\n",
    "    try:\n",
    "        for name in frame_names:\n",
    "            match = re.match(r'^(.*?)(\\d+)\\.png$', name)\n",
    "            if match:\n",
    "                prefix, number = match.groups()\n",
    "                new_filename = f\"{prefix}{int(number):0{width}d}.png\"\n",
    "                formatted_names.append(new_filename)\n",
    "                old_path = os.path.join(directory, name)\n",
    "                new_path = os.path.join(directory, new_filename)\n",
    "                os.rename(old_path, new_path)\n",
    "            print(f\"Renamed: {name} to {new_filename}\")\n",
    "\n",
    "    except Exception as e:\n",
    "        print(f\"Error: {e}\")\n",
    "\n",
    "    return formatted_names\n",
    "\n",
    "# 举例：将列表 ['frame_0.png', 'frame_2.png', 'frame_10.png'] 格式化为四位数\n",
    "directory = 'data/imgs_286'\n",
    "formatted_frame_names = format_frame_names_with_width(directory)\n",
    "formatted_frame_names.sort()"
   ],
   "metadata": {
    "collapsed": false,
    "ExecuteTime": {
     "end_time": "2023-12-15T08:31:11.756432Z",
     "start_time": "2023-12-15T08:31:11.748258Z"
    }
   },
   "id": "800e9f55b9884111"
  },
  {
   "cell_type": "code",
   "execution_count": 37,
   "outputs": [],
   "source": [
    "frame_names = os.listdir(directory)"
   ],
   "metadata": {
    "collapsed": false,
    "ExecuteTime": {
     "end_time": "2023-12-15T08:32:10.961031Z",
     "start_time": "2023-12-15T08:32:10.957798Z"
    }
   },
   "id": "39482ab53ff0678b"
  },
  {
   "cell_type": "code",
   "execution_count": 1,
   "outputs": [],
   "source": [
    "import cv2\n",
    "import json\n",
    "\n",
    "image = cv2.imread('data/imgs_1_trim/frame_000_cropped_2023-12-15-19-56-18.png')\n",
    "template_path = 'runs/predicted_labels_1702630580064.json'\n",
    "with open(template_path, 'r') as json_file:\n",
    "    data = json.load(json_file)\n",
    "\n",
    "ori_h, ori_w, c = image.shape\n",
    "box_coord = data['box_coord']\n",
    "\n",
    "# 定义矩形框的中心点坐标、宽度和高度\n",
    "center_x, center_y = ori_w * box_coord[0], ori_h * box_coord[1]\n",
    "width, height = ori_w * box_coord[2], ori_h * box_coord[3]\n",
    "\n",
    "# 计算矩形框的左上角和右下角坐标\n",
    "x1, y1 = int(center_x - width / 2), int(center_y - height / 2)\n",
    "x2, y2 = int(center_x + width / 2), int(center_y + height / 2)\n",
    "\n",
    "# 画出ROI\n",
    "real_object = image[y1:y2, x1:x2]"
   ],
   "metadata": {
    "collapsed": false,
    "ExecuteTime": {
     "end_time": "2023-12-17T06:40:10.416857Z",
     "start_time": "2023-12-17T06:40:10.006255Z"
    }
   },
   "id": "75c6133b9dac44e4"
  },
  {
   "cell_type": "code",
   "execution_count": 2,
   "outputs": [
    {
     "data": {
      "text/plain": "numpy.ndarray"
     },
     "execution_count": 2,
     "metadata": {},
     "output_type": "execute_result"
    }
   ],
   "source": [
    "type(real_object)"
   ],
   "metadata": {
    "collapsed": false,
    "ExecuteTime": {
     "end_time": "2023-12-17T06:40:13.958858Z",
     "start_time": "2023-12-17T06:40:13.941174Z"
    }
   },
   "id": "7d3f123944f59bfc"
  },
  {
   "cell_type": "code",
   "execution_count": 14,
   "outputs": [],
   "source": [
    "import datetime\n",
    "path = 'data/imgs_1_trim/frame_000.png'\n",
    "current_time = datetime.datetime.now().strftime('%Y-%m-%d-%H-%M-%S')\n",
    "base_name = path.replace('/', '_')[0:-4]\n",
    "output_path = os.path.join('runs/imgs', base_name+current_time+str('.png'))\n",
    "# cv2.imwrite(output_path, selected_roi)\n"
   ],
   "metadata": {
    "collapsed": false,
    "ExecuteTime": {
     "end_time": "2023-12-17T07:46:58.966014Z",
     "start_time": "2023-12-17T07:46:58.960944Z"
    }
   },
   "id": "b580311569c5d07b"
  },
  {
   "cell_type": "code",
   "execution_count": 15,
   "outputs": [
    {
     "data": {
      "text/plain": "'runs/imgs/data_imgs_1_trim_frame_0002023-12-17-18-46-58.png'"
     },
     "execution_count": 15,
     "metadata": {},
     "output_type": "execute_result"
    }
   ],
   "source": [
    "output_path"
   ],
   "metadata": {
    "collapsed": false,
    "ExecuteTime": {
     "end_time": "2023-12-17T07:46:59.892112Z",
     "start_time": "2023-12-17T07:46:59.887674Z"
    }
   },
   "id": "979ffcc0b4967a43"
  },
  {
   "cell_type": "code",
   "execution_count": 10,
   "outputs": [
    {
     "data": {
      "text/plain": "'data_imgs_1_trim_frame_000'"
     },
     "execution_count": 10,
     "metadata": {},
     "output_type": "execute_result"
    }
   ],
   "source": [
    "converted_path[0:-4]"
   ],
   "metadata": {
    "collapsed": false,
    "ExecuteTime": {
     "end_time": "2023-12-17T07:45:49.094070Z",
     "start_time": "2023-12-17T07:45:49.090581Z"
    }
   },
   "id": "52cc0a4331a6cdb7"
  },
  {
   "cell_type": "code",
   "execution_count": null,
   "outputs": [],
   "source": [],
   "metadata": {
    "collapsed": false
   },
   "id": "df767de6bd8cd4f1"
  }
 ],
 "metadata": {
  "kernelspec": {
   "display_name": "Python 3",
   "language": "python",
   "name": "python3"
  },
  "language_info": {
   "codemirror_mode": {
    "name": "ipython",
    "version": 2
   },
   "file_extension": ".py",
   "mimetype": "text/x-python",
   "name": "python",
   "nbconvert_exporter": "python",
   "pygments_lexer": "ipython2",
   "version": "2.7.6"
  }
 },
 "nbformat": 4,
 "nbformat_minor": 5
}
